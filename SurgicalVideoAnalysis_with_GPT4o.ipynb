{
 "cells": [
  {
   "cell_type": "code",
   "execution_count": null,
   "metadata": {},
   "outputs": [],
   "source": [
    "import base64\n",
    "import os\n",
    "from tkinter import filedialog\n",
    "from openai import OpenAI\n",
    "import pyperclip\n",
    "from PIL import Image"
   ]
  },
  {
   "cell_type": "code",
   "execution_count": 2,
   "metadata": {},
   "outputs": [],
   "source": [
    "def encode_image_to_base64(file_path):\n",
    "    with open(file_path, \"rb\") as image_file:\n",
    "        image_data = image_file.read()\n",
    "        base64_image = base64.b64encode(image_data).decode('utf-8')\n",
    "        return f\"data:image/jpeg;base64,{base64_image}\""
   ]
  },
  {
   "cell_type": "code",
   "execution_count": null,
   "metadata": {},
   "outputs": [],
   "source": [
    "MODEL=\"gpt-4o\"\n",
    "client = OpenAI(api_key=\"API\")"
   ]
  },
  {
   "cell_type": "code",
   "execution_count": 4,
   "metadata": {},
   "outputs": [],
   "source": [
    "from pathlib import Path"
   ]
  },
  {
   "cell_type": "code",
   "execution_count": 5,
   "metadata": {},
   "outputs": [],
   "source": [
    "data_root = Path(\"\")"
   ]
  },
  {
   "cell_type": "code",
   "execution_count": null,
   "metadata": {},
   "outputs": [],
   "source": [
    "from tqdm import tqdm\n",
    "import PIL\n",
    "from concurrent.futures import ThreadPoolExecutor, as_completed\n",
    "\n",
    "def resize(img_path: Path, destination_folder: Path) -> None:\n",
    "    destination_path = (destination_folder / img_path.name).with_suffix(\".jpg\")\n",
    "    if destination_path.exists():\n",
    "        return\n",
    "\n",
    "    try:\n",
    "        img = Image.open(img_path)\n",
    "    except PIL.UnidentifiedImageError as e:\n",
    "        print(e)\n",
    "        return\n",
    "\n",
    "    imgResize = img.resize((428*2, 240*2))\n",
    "    imgResize.save(\n",
    "        tmp_name := (destination_folder / img_path.name).with_suffix(\".tmp\"), format=\"jpeg\", quality=90)\n",
    "    tmp_name.rename(destination_path)\n",
    "\n",
    "\n",
    "# crop images\n",
    "with ThreadPoolExecutor() as executor:\n",
    "    for source_folder in (progress := tqdm(list((data_root/\"videos\").glob(\"VID*\")))):\n",
    "        progress.set_description(source_folder.name)\n",
    "        destination_folder = data_root / \"videos_cropped\" / source_folder.name\n",
    "        destination_folder.mkdir(parents=True, exist_ok=True)\n",
    "\n",
    "        frames = list(source_folder.glob(\"*.png\"))\n",
    "        futures = [\n",
    "            executor.submit(resize, img_path=item, destination_folder=destination_folder)\n",
    "            for item in frames\n",
    "        ]\n",
    "\n",
    "        for _ in as_completed(futures):\n",
    "            pass"
   ]
  },
  {
   "cell_type": "code",
   "execution_count": null,
   "metadata": {},
   "outputs": [],
   "source": [
    "# Select images\n",
    "destination_folder = Path(\"\")\n",
    "# All files and directories ending with .jpg (keep the *)\n",
    "file_paths = sorted(destination_folder.glob(\"*.jpg\"))\n",
    "print(file_paths)"
   ]
  },
  {
   "cell_type": "code",
   "execution_count": null,
   "metadata": {},
   "outputs": [],
   "source": [
    "if not file_paths:\n",
    "    print(\"No files. Exiting.\")\n",
    "else:\n",
    "    image_urls = [encode_image_to_base64(file_path) for file_path in file_paths]\n",
    "\n",
    "    response = client.chat.completions.create(\n",
    "        model=MODEL,\n",
    "        messages=[\n",
    "            {\"role\": \"system\", \"content\": \"system prompt\"},\n",
    "            {\n",
    "                \"role\": \"user\",\n",
    "                \"content\": [\n",
    "                    {\"type\": \"text\", \"text\": \"user prompt\",},\n",
    "                    *[{\"type\": \"image_url\", \"image_url\": {\"url\": url}} for url in image_urls[::15]],\n",
    "                ],\n",
    "            }\n",
    "        ],\n",
    "        max_tokens=1000,\n",
    "    )\n",
    "    generated_markdown = response.choices[0].message.content\n",
    "    # Copy the text to the clipboard\n",
    "    pyperclip.copy(generated_markdown)\n",
    "    print(\"-----------------------------------------------------\")\n",
    "print(generated_markdown)"
   ]
  }
 ],
 "metadata": {
  "kernelspec": {
   "display_name": "video_venv",
   "language": "python",
   "name": "python3"
  },
  "language_info": {
   "codemirror_mode": {
    "name": "ipython",
    "version": 3
   },
   "file_extension": ".py",
   "mimetype": "text/x-python",
   "name": "python",
   "nbconvert_exporter": "python",
   "pygments_lexer": "ipython3",
   "version": "3.12.4"
  }
 },
 "nbformat": 4,
 "nbformat_minor": 2
}

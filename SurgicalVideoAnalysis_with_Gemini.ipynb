{
 "cells": [
  {
   "cell_type": "code",
   "execution_count": 369,
   "metadata": {},
   "outputs": [],
   "source": [
    "import os\n",
    "import dotenv\n",
    "from dotenv import load_dotenv\n",
    "load_dotenv() \n",
    "import google.generativeai as genai\n",
    "\n",
    "genai.configure(api_key=\"API\")\n",
    "import vertexai\n",
    "\n",
    "from PIL import Image\n",
    "import shutil\n",
    "\n",
    "upload_file_cache = {}"
   ]
  },
  {
   "cell_type": "code",
   "execution_count": null,
   "metadata": {},
   "outputs": [],
   "source": [
    "MODEL_ID=\"gemini-1.5-pro-latest\"\n",
    "\n",
    "model = genai.GenerativeModel(\n",
    "    MODEL_ID,\n",
    "    system_instruction=[\n",
    "        \"system prompt\",\n",
    "    ],\n",
    "    generation_config=genai.GenerationConfig(\n",
    "        max_output_tokens=1000,\n",
    "        temperature=0.1,\n",
    "    )\n",
    ")"
   ]
  },
  {
   "cell_type": "code",
   "execution_count": null,
   "metadata": {},
   "outputs": [],
   "source": [
    "from pathlib import Path\n",
    "\n",
    "source_folder = Path('')\n",
    "crops_directory = Path('')\n",
    "\n",
    "for jpg_path in source_folder.glob(\"*.png\"):\n",
    "    img = Image.open(jpg_path)\n",
    "    imgResize = img.resize((428*2, 240*2))\n",
    "    imgResize.save(crops_directory / f\"{jpg_path.stem}_frame.jpg\", quality=90)"
   ]
  },
  {
   "cell_type": "code",
   "execution_count": 372,
   "metadata": {},
   "outputs": [],
   "source": [
    "import hashlib\n",
    "\n",
    "def upload_file(path):\n",
    "    \"\"\"upload file, but with caching!!!\"\"\"\n",
    "    with open(path, \"rb\") as f:\n",
    "        digest = hashlib.file_digest(f, \"sha256\").digest()\n",
    "\n",
    "    if file_obj := upload_file_cache.get(digest, None):\n",
    "        return file_obj\n",
    "\n",
    "    response = genai.upload_file(path=str(path))\n",
    "    upload_file_cache[digest] = response\n",
    "    return response\n"
   ]
  },
  {
   "cell_type": "code",
   "execution_count": null,
   "metadata": {},
   "outputs": [],
   "source": [
    "from tqdm import tqdm\n",
    "\n",
    "uploaded_files = [\n",
    "    upload_file(frame)\n",
    "    for frame in tqdm(sorted(crops_directory.glob(\"*.jpg\"))[::15])\n",
    "]\n",
    "    "
   ]
  },
  {
   "cell_type": "code",
   "execution_count": null,
   "metadata": {},
   "outputs": [],
   "source": [
    "from google.generativeai.types import file_types\n",
    "\n",
    "def find_evil_frames(frames: list[file_types.File], indent: int = 0) -> list[file_types.File]:\n",
    "    print(f'{\"  \" * indent} {len(frames): 2}')\n",
    "    if len(frames) == 0:\n",
    "        return []\n",
    "    \n",
    "    if len(frames) == 1:\n",
    "        response = model.generate_content(frames)\n",
    "        if response._error:\n",
    "            return frames\n",
    "        else:\n",
    "            return []\n",
    "        \n",
    "    else:   \n",
    "        evil_frames = []\n",
    "        for part in [\n",
    "            frames[:len(frames)//2],\n",
    "            frames[len(frames)//2:],\n",
    "        ]:\n",
    "\n",
    "            response = model.generate_content(part)\n",
    "            if response._error:    # There is an evil frame in the first half of the frames. But which one?\n",
    "                evil_frames += find_evil_frames(part, indent+1)\n",
    "\n",
    "        return evil_frames"
   ]
  },
  {
   "cell_type": "code",
   "execution_count": null,
   "metadata": {},
   "outputs": [],
   "source": [
    "evil_frames = find_evil_frames(uploaded_files)"
   ]
  },
  {
   "cell_type": "code",
   "execution_count": null,
   "metadata": {},
   "outputs": [],
   "source": [
    "non_evil_frames = [\n",
    "    f\n",
    "    for f in uploaded_files\n",
    "    if f not in evil_frames\n",
    "]\n",
    "len(non_evil_frames)"
   ]
  },
  {
   "cell_type": "code",
   "execution_count": null,
   "metadata": {},
   "outputs": [],
   "source": [
    "# give us all evil frames\n",
    "[\n",
    "    frame.display_name\n",
    "    for frame in evil_frames\n",
    "]"
   ]
  },
  {
   "cell_type": "code",
   "execution_count": 378,
   "metadata": {},
   "outputs": [],
   "source": [
    "frame_descriptions = [\n",
    "    f\"Frame {frame.display_name[:6]}:\"\n",
    "    for frame in non_evil_frames\n",
    "]"
   ]
  },
  {
   "cell_type": "code",
   "execution_count": null,
   "metadata": {},
   "outputs": [],
   "source": [
    "safety_settings=[\n",
    "  {\n",
    "    \"category\": \"HARM_CATEGORY_DANGEROUS\",\n",
    "    \"threshold\": \"BLOCK_NONE\",\n",
    "  },\n",
    "  {\n",
    "    \"category\": \"HARM_CATEGORY_HARASSMENT\",\n",
    "    \"threshold\": \"BLOCK_NONE\",\n",
    "  },\n",
    "  {\n",
    "    \"category\": \"HARM_CATEGORY_HATE_SPEECH\",\n",
    "    \"threshold\": \"BLOCK_NONE\",\n",
    "  },\n",
    "  {\n",
    "    \"category\": \"HARM_CATEGORY_SEXUALLY_EXPLICIT\",\n",
    "    \"threshold\": \"BLOCK_NONE\",\n",
    "  },\n",
    "  {\n",
    "    \"category\": \"HARM_CATEGORY_DANGEROUS_CONTENT\",\n",
    "    \"threshold\": \"BLOCK_NONE\",\n",
    "  },\n",
    "]\n",
    "\n",
    "response = model.generate_content(\n",
    "    [\n",
    "        # An interleaved list of \"Frame n:\" and the corresponding image, for all non-evil frames\n",
    "        *[\n",
    "            x\n",
    "            for xs in zip(frame_descriptions, non_evil_frames)\n",
    "            for x in xs\n",
    "        ], \" user prompt\"\n",
    "  ],\n",
    "    safety_settings=safety_settings,\n",
    ")\n",
    "print(response.text)"
   ]
  }
 ],
 "metadata": {
  "kernelspec": {
   "display_name": "gemini_venv",
   "language": "python",
   "name": "python3"
  },
  "language_info": {
   "codemirror_mode": {
    "name": "ipython",
    "version": 3
   },
   "file_extension": ".py",
   "mimetype": "text/x-python",
   "name": "python",
   "nbconvert_exporter": "python",
   "pygments_lexer": "ipython3",
   "version": "3.12.3"
  }
 },
 "nbformat": 4,
 "nbformat_minor": 2
}
